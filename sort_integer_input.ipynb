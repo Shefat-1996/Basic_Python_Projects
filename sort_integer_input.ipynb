{
 "cells": [
  {
   "cell_type": "code",
   "execution_count": null,
   "id": "16fc9666-3f0f-48cf-9790-148c86da6736",
   "metadata": {},
   "outputs": [],
   "source": [
    "n = int (input (\"how many numbers you will enter:\"))\n",
    "\n",
    "number = []\n",
    "i = 0\n",
    "while i < n:\n",
    "    number.append (int (i))\n",
    "    i += 1\n",
    "\n",
    "number.sort()\n",
    "print\"Sorted integers:\" number)"
   ]
  }
 ],
 "metadata": {
  "kernelspec": {
   "display_name": "Python [conda env:base] *",
   "language": "python",
   "name": "conda-base-py"
  },
  "language_info": {
   "codemirror_mode": {
    "name": "ipython",
    "version": 3
   },
   "file_extension": ".py",
   "mimetype": "text/x-python",
   "name": "python",
   "nbconvert_exporter": "python",
   "pygments_lexer": "ipython3",
   "version": "3.12.7"
  }
 },
 "nbformat": 4,
 "nbformat_minor": 5
}
