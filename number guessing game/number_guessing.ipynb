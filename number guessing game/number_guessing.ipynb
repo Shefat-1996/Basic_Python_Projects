{
 "cells": [
  {
   "cell_type": "code",
   "execution_count": 15,
   "id": "20330709-6cd8-4338-a2ec-187c83f6ca0d",
   "metadata": {},
   "outputs": [
    {
     "name": "stdout",
     "output_type": "stream",
     "text": [
      "Welcome to the Number Guessing Game:\n",
      "I am thinking of a number between 1 to 200\n"
     ]
    },
    {
     "name": "stdin",
     "output_type": "stream",
     "text": [
      "Take a guess:  3\n"
     ]
    }
   ],
   "source": [
    "print(\"Welcome to the Number Guessing Game:\")\n",
    "print(\"I am thinking of a number between 1 to 200\")\n",
    "import random\n",
    "secret_number = random.randint(1,200)\n",
    "number = int(input(\"Take a guess: \"))\n",
    "\n",
    "count = 1\n",
    "while true:\n",
    "    number = int(input(\"Take a guess: \"))\n",
    "    if (number == secret_number):\n",
    "        print(\"CORRECT !!\")\n",
    "        break\n",
    "\n",
    "    elif (number < secret_number):\n",
    "        print(\"Too Low !!\")\n",
    "\n",
    "    else:\n",
    "        print(\"Too high !!\")\n",
    "    count += 1\n",
    "    \n",
    "print(\"Great !! You guessed in just\" + count + \"tries\")"
   ]
  },
  {
   "cell_type": "code",
   "execution_count": 23,
   "id": "2bf64976-485f-4e3b-ba3d-46fbd9c20048",
   "metadata": {},
   "outputs": [
    {
     "name": "stdout",
     "output_type": "stream",
     "text": [
      "Welcome to the Number Guessing Game:\n",
      "I am thinking of a number between 1 to 200\n"
     ]
    },
    {
     "name": "stdin",
     "output_type": "stream",
     "text": [
      "Take a guess:  50\n",
      "Take a guess:  30\n"
     ]
    },
    {
     "name": "stdout",
     "output_type": "stream",
     "text": [
      "Too Low !!\n"
     ]
    },
    {
     "name": "stdin",
     "output_type": "stream",
     "text": [
      "Take a guess:  80\n"
     ]
    },
    {
     "name": "stdout",
     "output_type": "stream",
     "text": [
      "Too Low !!\n"
     ]
    },
    {
     "name": "stdin",
     "output_type": "stream",
     "text": [
      "Take a guess:  160\n"
     ]
    },
    {
     "name": "stdout",
     "output_type": "stream",
     "text": [
      "Too Low !!\n"
     ]
    },
    {
     "name": "stdin",
     "output_type": "stream",
     "text": [
      "Take a guess:  190\n"
     ]
    },
    {
     "name": "stdout",
     "output_type": "stream",
     "text": [
      "Too Low !!\n"
     ]
    },
    {
     "name": "stdin",
     "output_type": "stream",
     "text": [
      "Take a guess:  199\n"
     ]
    },
    {
     "name": "stdout",
     "output_type": "stream",
     "text": [
      "Too high !!\n"
     ]
    },
    {
     "name": "stdin",
     "output_type": "stream",
     "text": [
      "Take a guess:  190\n"
     ]
    },
    {
     "name": "stdout",
     "output_type": "stream",
     "text": [
      "Too Low !!\n"
     ]
    },
    {
     "name": "stdin",
     "output_type": "stream",
     "text": [
      "Take a guess:  197\n"
     ]
    },
    {
     "name": "stdout",
     "output_type": "stream",
     "text": [
      "Too high !!\n"
     ]
    },
    {
     "name": "stdin",
     "output_type": "stream",
     "text": [
      "Take a guess:  194\n"
     ]
    },
    {
     "name": "stdout",
     "output_type": "stream",
     "text": [
      "Too high !!\n"
     ]
    },
    {
     "name": "stdin",
     "output_type": "stream",
     "text": [
      "Take a guess:  192\n"
     ]
    },
    {
     "name": "stdout",
     "output_type": "stream",
     "text": [
      "CORRECT !!\n",
      "Great !! You guessed in just9tries\n"
     ]
    }
   ],
   "source": [
    "print(\"Welcome to the Number Guessing Game:\")\n",
    "print(\"I am thinking of a number between 1 to 200\")\n",
    "import random\n",
    "secret_number = random.randint(1,200)\n",
    "number = int(input(\"Take a guess: \"))\n",
    "\n",
    "count = 1\n",
    "while True:\n",
    "    number = int(input(\"Take a guess: \"))\n",
    "    if number == secret_number:\n",
    "        print(\"CORRECT !!\")\n",
    "        break\n",
    "\n",
    "    elif number < secret_number:\n",
    "        print(\"Too Low !!\")\n",
    "\n",
    "    else:\n",
    "        print(\"Too high !!\")\n",
    "    count += 1\n",
    "    \n",
    "print(\"Great !! You guessed in just \" + str(count) + \" tries\")"
   ]
  },
  {
   "cell_type": "code",
   "execution_count": null,
   "id": "7dd5d1a6-c007-4131-8b52-f0367a78406c",
   "metadata": {},
   "outputs": [],
   "source": []
  },
  {
   "cell_type": "code",
   "execution_count": null,
   "id": "ebf34438-f7fd-44c4-a26b-625117ad94dd",
   "metadata": {},
   "outputs": [],
   "source": []
  }
 ],
 "metadata": {
  "kernelspec": {
   "display_name": "Python [conda env:base] *",
   "language": "python",
   "name": "conda-base-py"
  },
  "language_info": {
   "codemirror_mode": {
    "name": "ipython",
    "version": 3
   },
   "file_extension": ".py",
   "mimetype": "text/x-python",
   "name": "python",
   "nbconvert_exporter": "python",
   "pygments_lexer": "ipython3",
   "version": "3.12.7"
  }
 },
 "nbformat": 4,
 "nbformat_minor": 5
}
